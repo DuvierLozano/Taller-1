{
  "nbformat": 4,
  "nbformat_minor": 0,
  "metadata": {
    "colab": {
      "provenance": [],
      "authorship_tag": "ABX9TyPIf4tVY26ZxLeUt60pRGMN",
      "include_colab_link": true
    },
    "kernelspec": {
      "name": "python3",
      "display_name": "Python 3"
    },
    "language_info": {
      "name": "python"
    }
  },
  "cells": [
    {
      "cell_type": "markdown",
      "metadata": {
        "id": "view-in-github",
        "colab_type": "text"
      },
      "source": [
        "<a href=\"https://colab.research.google.com/github/DuvierLozano/Taller-1/blob/main/Clase_5.ipynb\" target=\"_parent\"><img src=\"https://colab.research.google.com/assets/colab-badge.svg\" alt=\"Open In Colab\"/></a>"
      ]
    },
    {
      "cell_type": "markdown",
      "source": [
        "**Ejercicio 1**"
      ],
      "metadata": {
        "id": "x44s9WGnAzuf"
      }
    },
    {
      "cell_type": "code",
      "source": [
        "class Node:\n",
        "    def __init__(self, data):\n",
        "        self.data = data\n",
        "        self.next = None\n",
        "        self.prev = None\n",
        "\n",
        "class DoublyLinkedList:\n",
        "    def __init__(self):\n",
        "        self.head = None\n",
        "\n",
        "    def append(self, data):\n",
        "        new_node = Node(data)\n",
        "        if self.head is None:\n",
        "            self.head = new_node\n",
        "        else:\n",
        "            current = self.head\n",
        "            while current.next:\n",
        "                current = current.next\n",
        "            current.next = new_node\n",
        "            new_node.prev = current\n",
        "\n",
        "    def delete_node(self, node):\n",
        "\n",
        "        if self.head is None or node is None:\n",
        "            return\n",
        "\n",
        "        if self.head == node:\n",
        "            self.head = node.next\n",
        "\n",
        "        if node.next:\n",
        "            node.next.prev = node.prev\n",
        "\n",
        "        if node.prev:\n",
        "            node.prev.next = node.next\n",
        "        node = None\n",
        "\n",
        "    def display(self):\n",
        "        current = self.head\n",
        "        while current:\n",
        "            print(current.data, end=' ')\n",
        "            current = current.next\n",
        "        print()\n",
        "\n",
        "    def display_reverse(self):\n",
        "        current = self.head\n",
        "\n",
        "        while current and current.next:\n",
        "            current = current.next\n",
        "\n",
        "        while current:\n",
        "            print(current.data, end=' ')\n",
        "            current = current.prev\n",
        "        print()\n",
        "\n",
        "\n",
        "    def display_reverse(self):\n",
        "        current = self.head\n",
        "\n",
        "        while current and current.next:\n",
        "            current = current.next\n",
        "\n",
        "        while current:\n",
        "            print(current.data, end=' ')\n",
        "            current = current.prev\n",
        "        print()\n",
        "\n",
        "dll = DoublyLinkedList()\n",
        "dll.append(1)\n",
        "dll.append(2)\n",
        "dll.append(3)\n",
        "\n",
        "dll.display()\n",
        "dll.display_reverse()\n",
        "\n",
        "dll.delete_node(dll.head.next)\n",
        "dll.display()\n",
        "\n"
      ],
      "metadata": {
        "colab": {
          "base_uri": "https://localhost:8080/"
        },
        "id": "sf9ulUhXBIK-",
        "outputId": "765c82ee-10e1-43eb-99af-ae1613e573ed"
      },
      "execution_count": 7,
      "outputs": [
        {
          "output_type": "stream",
          "name": "stdout",
          "text": [
            "1 2 3 \n",
            "3 2 1 \n",
            "1 3 \n"
          ]
        }
      ]
    },
    {
      "cell_type": "markdown",
      "source": [
        "**Ejercicios 2**"
      ],
      "metadata": {
        "id": "bNAeJPjSBXqh"
      }
    },
    {
      "cell_type": "code",
      "source": [
        "class Node:\n",
        "    def __init__(self, data):\n",
        "        self.data = data\n",
        "        self.next = None\n",
        "        self.prev = None\n",
        "\n",
        "class CircularDoublyLinkedList:\n",
        "    def __init__(self):\n",
        "        self.head = None\n",
        "\n",
        "    def append(self, data):\n",
        "        new_node = Node(data)\n",
        "        if self.head is None:\n",
        "            self.head = new_node\n",
        "            self.head.next = self.head\n",
        "            self.head.prev = self.head\n",
        "        else:\n",
        "            tail = self.head.prev\n",
        "            tail.next = new_node\n",
        "            new_node.prev = tail\n",
        "            new_node.next = self.head\n",
        "            self.head.prev = new_node\n",
        "\n",
        "    def insert_at_position(self, data, pos):\n",
        "        new_node = Node(data)\n",
        "        if pos == 1:  # Insertar en la primera posición\n",
        "            if self.head is None:\n",
        "                self.append(data)\n",
        "                return\n",
        "            tail = self.head.prev\n",
        "            new_node.next = self.head\n",
        "            new_node.prev = tail\n",
        "            tail.next = new_node\n",
        "            self.head.prev = new_node\n",
        "            self.head = new_node\n",
        "        else:\n",
        "            current = self.head\n",
        "            for _ in range(pos - 2):\n",
        "                current = current.next\n",
        "                if current == self.head:\n",
        "                    break  # Si la posición es mayor que el tamaño, termina el bucle\n",
        "            new_node.next = current.next\n",
        "            new_node.prev = current\n",
        "            current.next.prev = new_node\n",
        "            current.next = new_node\n",
        "\n",
        "    def display(self):\n",
        "        if self.head is None:\n",
        "            print(\"La lista está vacía\")\n",
        "            return\n",
        "        current = self.head\n",
        "        while True:\n",
        "            print(current.data, end=' ')\n",
        "            current = current.next\n",
        "            if current == self.head:\n",
        "                break\n",
        "        print()\n",
        "\n",
        "\n",
        "cdll = CircularDoublyLinkedList()\n",
        "cdll.append(1)\n",
        "cdll.append(2)\n",
        "cdll.append(3)\n",
        "\n",
        "cdll.insert_at_position(4, 2)  # Insertar en la posición 2\n",
        "cdll.display()  # Salida esperada: 1 4 2 3\n"
      ],
      "metadata": {
        "colab": {
          "base_uri": "https://localhost:8080/"
        },
        "id": "leYKpP7DBbNW",
        "outputId": "241f8b7a-f222-4240-f1bf-9c7ccd6b580c"
      },
      "execution_count": 15,
      "outputs": [
        {
          "output_type": "stream",
          "name": "stdout",
          "text": [
            "1 4 2 3 \n"
          ]
        }
      ]
    },
    {
      "cell_type": "markdown",
      "source": [
        "**Ejercicio 3**"
      ],
      "metadata": {
        "id": "IlF-ncOJBjbI"
      }
    },
    {
      "cell_type": "code",
      "source": [
        "class Node:\n",
        "    def __init__(self, data):\n",
        "        self.data = data\n",
        "        self.next = None\n",
        "        self.prev = None\n",
        "\n",
        "class CircularDoublyLinkedList:\n",
        "    def __init__(self):\n",
        "        self.head = None\n",
        "\n",
        "    def append(self, data):\n",
        "        new_node = Node(data)\n",
        "        if self.head is None:\n",
        "            self.head = new_node\n",
        "            self.head.next = self.head\n",
        "            self.head.prev = self.head\n",
        "        else:\n",
        "            tail = self.head.prev\n",
        "            tail.next = new_node\n",
        "            new_node.prev = tail\n",
        "            new_node.next = self.head\n",
        "            self.head.prev = new_node\n",
        "\n",
        "    def traverse_multiple_times(self, times):\n",
        "        if self.head is None:\n",
        "            print(\"La lista está vacía\")\n",
        "            return\n",
        "        current = self.head\n",
        "        count = 0\n",
        "        while count < times:  # Recorre la lista 'times' veces\n",
        "            print(current.data, end=' ')\n",
        "            current = current.next\n",
        "            if current == self.head:  # Si volvemos al inicio, completamos un ciclo\n",
        "                count += 1\n",
        "                if count < times:  # Solo imprime una nueva línea si quedan ciclos por recorrer\n",
        "                    print(end=' | ')  # Separador visual para indicar cambio de ciclo\n",
        "        print()  # Imprimir una nueva línea al finalizar todo el recorrido\n",
        "\n",
        "    def display(self):\n",
        "        if self.head is None:\n",
        "            print(\"La lista está vacía\")\n",
        "            return\n",
        "        current = self.head\n",
        "        while True:\n",
        "            print(current.data, end=' ')\n",
        "            current = current.next\n",
        "            if current == self.head:\n",
        "                break\n",
        "        print()\n",
        "\n",
        "cdll = CircularDoublyLinkedList()\n",
        "cdll.append(1)\n",
        "cdll.append(2)\n",
        "cdll.append(3)\n",
        "\n",
        "cdll.traverse_multiple_times(3)  # Recorre tres veces la lista circular\n"
      ],
      "metadata": {
        "colab": {
          "base_uri": "https://localhost:8080/"
        },
        "id": "bknhnZ5WBq-c",
        "outputId": "8c00f609-664f-48e4-ffe2-ec16884e1010"
      },
      "execution_count": 20,
      "outputs": [
        {
          "output_type": "stream",
          "name": "stdout",
          "text": [
            "1 2 3  | 1 2 3  | 1 2 3 \n"
          ]
        }
      ]
    }
  ]
}