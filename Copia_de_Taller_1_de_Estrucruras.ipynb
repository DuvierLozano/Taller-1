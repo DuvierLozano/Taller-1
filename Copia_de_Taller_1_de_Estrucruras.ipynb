{
  "nbformat": 4,
  "nbformat_minor": 0,
  "metadata": {
    "colab": {
      "provenance": [],
      "authorship_tag": "ABX9TyOSH/XKxgIKIwQnxPRNw+cG",
      "include_colab_link": true
    },
    "kernelspec": {
      "name": "python3",
      "display_name": "Python 3"
    },
    "language_info": {
      "name": "python"
    }
  },
  "cells": [
    {
      "cell_type": "markdown",
      "metadata": {
        "id": "view-in-github",
        "colab_type": "text"
      },
      "source": [
        "<a href=\"https://colab.research.google.com/github/DuvierLozano/Taller-1/blob/main/Copia_de_Taller_1_de_Estrucruras.ipynb\" target=\"_parent\"><img src=\"https://colab.research.google.com/assets/colab-badge.svg\" alt=\"Open In Colab\"/></a>"
      ]
    },
    {
      "cell_type": "code",
      "execution_count": null,
      "metadata": {
        "colab": {
          "base_uri": "https://localhost:8080/"
        },
        "id": "CMmqixDoo84w",
        "outputId": "68a9c011-2e69-4bcf-9cea-91a6c0f02076"
      },
      "outputs": [
        {
          "output_type": "stream",
          "name": "stdout",
          "text": [
            "Nombres en la lista:\n",
            "Ana\n",
            "Luis\n",
            "Carlos\n",
            "Sofia\n",
            "Marta\n",
            "\n",
            "El nombre 'Luis' fue encontrado.\n",
            "\n",
            "El nombre 'Pedro' ha sido agregado.\n",
            "Lista actualizada de nombres después de agregar:\n",
            "Ana\n",
            "Luis\n",
            "Carlos\n",
            "Sofia\n",
            "Marta\n",
            "Pedro\n",
            "\n",
            "El nombre 'Carlos' ha sido eliminado.\n",
            "Lista actualizada de nombres después de eliminar:\n",
            "Ana\n",
            "Luis\n",
            "Sofia\n",
            "Marta\n",
            "Pedro\n",
            "\n",
            "Gestión de tareas:\n",
            "Tarea 'Comprar groceries' agregada.\n",
            "Tarea 'Llamar al médico' agregada.\n",
            "Tareas pendientes:\n",
            "- Comprar groceries\n",
            "- Llamar al médico\n",
            "Tarea 'Comprar groceries' eliminada.\n",
            "Tareas pendientes:\n",
            "- Llamar al médico\n"
          ]
        }
      ],
      "source": [
        "\n",
        "nombres = []\n",
        "nombres.append(\"Ana\")\n",
        "nombres.append(\"Luis\")\n",
        "nombres.append(\"Carlos\")\n",
        "nombres.append(\"Sofia\")\n",
        "nombres.append(\"Marta\")\n",
        "\n",
        "def imprimir_nombres(lista):\n",
        "    for nombre in lista:\n",
        "        print(nombre)\n",
        "\n",
        "\n",
        "print(\"Nombres en la lista:\")\n",
        "imprimir_nombres(nombres)\n",
        "print()\n",
        "\n",
        "nombre_buscado = \"Luis\"\n",
        "if nombre_buscado in nombres:\n",
        "    print(f\"El nombre '{nombre_buscado}' fue encontrado.\")\n",
        "else:\n",
        "    print(f\"El nombre '{nombre_buscado}' no fue encontrado.\")\n",
        "print()\n",
        "\n",
        "nuevo_nombre = \"Pedro\"\n",
        "if nuevo_nombre not in nombres:\n",
        "    nombres.append(nuevo_nombre)\n",
        "    print(f\"El nombre '{nuevo_nombre}' ha sido agregado.\")\n",
        "else:\n",
        "    print(f\"El nombre '{nuevo_nombre}' ya está en la lista.\")\n",
        "\n",
        "\n",
        "print(\"Lista actualizada de nombres después de agregar:\")\n",
        "imprimir_nombres(nombres)\n",
        "print()\n",
        "\n",
        "nombre_a_eliminar = \"Carlos\"\n",
        "if nombre_a_eliminar in nombres:\n",
        "    nombres.remove(nombre_a_eliminar)\n",
        "    print(f\"El nombre '{nombre_a_eliminar}' ha sido eliminado.\")\n",
        "else:\n",
        "    print(f\"El nombre '{nombre_a_eliminar}' no se encontró en la lista.\")\n",
        "\n",
        "\n",
        "print(\"Lista actualizada de nombres después de eliminar:\")\n",
        "imprimir_nombres(nombres)\n",
        "print()\n",
        "\n",
        "\n",
        "tareas = []\n",
        "\n",
        "def agregar_tarea(tarea):\n",
        "    if tarea not in tareas:\n",
        "        tareas.append(tarea)\n",
        "        print(f\"Tarea '{tarea}' agregada.\")\n",
        "    else:\n",
        "        print(f\"La tarea '{tarea}' ya está en la lista.\")\n",
        "\n",
        "\n",
        "def eliminar_tarea(tarea):\n",
        "    if tarea in tareas:\n",
        "        tareas.remove(tarea)\n",
        "        print(f\"Tarea '{tarea}' eliminada.\")\n",
        "    else:\n",
        "        print(f\"La tarea '{tarea}' no se encontró en la lista.\")\n",
        "\n",
        "\n",
        "def mostrar_tareas():\n",
        "    if tareas:\n",
        "        print(\"Tareas pendientes:\")\n",
        "        for tarea in tareas:\n",
        "            print(f\"- {tarea}\")\n",
        "    else:\n",
        "        print(\"No hay tareas pendientes.\")\n",
        "\n",
        "print(\"Gestión de tareas:\")\n",
        "agregar_tarea(\"Comprar groceries\")\n",
        "agregar_tarea(\"Llamar al médico\")\n",
        "mostrar_tareas()\n",
        "\n",
        "eliminar_tarea(\"Comprar groceries\")\n",
        "mostrar_tareas()\n"
      ]
    }
  ]
}