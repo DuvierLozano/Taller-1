{
  "nbformat": 4,
  "nbformat_minor": 0,
  "metadata": {
    "colab": {
      "provenance": [],
      "authorship_tag": "ABX9TyPfxtpo7+08RWNF+WsmF5P3",
      "include_colab_link": true
    },
    "kernelspec": {
      "name": "python3",
      "display_name": "Python 3"
    },
    "language_info": {
      "name": "python"
    }
  },
  "cells": [
    {
      "cell_type": "markdown",
      "metadata": {
        "id": "view-in-github",
        "colab_type": "text"
      },
      "source": [
        "<a href=\"https://colab.research.google.com/github/DuvierLozano/Taller-1/blob/main/Taller_4_Estructura.ipynb\" target=\"_parent\"><img src=\"https://colab.research.google.com/assets/colab-badge.svg\" alt=\"Open In Colab\"/></a>"
      ]
    },
    {
      "cell_type": "code",
      "execution_count": 1,
      "metadata": {
        "colab": {
          "base_uri": "https://localhost:8080/"
        },
        "id": "W3gov22Z863T",
        "outputId": "3749acfa-697c-4f45-fed5-b6db3fb86de4"
      },
      "outputs": [
        {
          "output_type": "stream",
          "name": "stdout",
          "text": [
            "Lista enlazada actual:\n",
            "25 -> 20 -> 15 -> 10 -> 5 -> None\n"
          ]
        }
      ],
      "source": [
        "# Definición de la clase Nodo\n",
        "class Nodo:\n",
        "    def __init__(self, valor):\n",
        "        self.valor = valor\n",
        "        self.siguiente = None\n",
        "\n",
        "# Definición de la clase ListaEnlazada\n",
        "class ListaEnlazada:\n",
        "    def __init__(self):\n",
        "        self.cabeza = None\n",
        "\n",
        "    # Método para insertar al inicio\n",
        "    def insertar_al_inicio(self, valor):\n",
        "        nuevo_nodo = Nodo(valor)\n",
        "        nuevo_nodo.siguiente = self.cabeza\n",
        "        self.cabeza = nuevo_nodo\n",
        "\n",
        "    # Método para recorrer la lista e imprimir los valores\n",
        "    def recorrer(self):\n",
        "        actual = self.cabeza\n",
        "        while actual:\n",
        "            print(actual.valor, end=\" -> \")\n",
        "            actual = actual.siguiente\n",
        "        print(\"None\")\n",
        "\n",
        "# Crear la lista enlazada\n",
        "lista = ListaEnlazada()\n",
        "\n",
        "# Añadir 5 elementos\n",
        "lista.insertar_al_inicio(5)\n",
        "lista.insertar_al_inicio(10)\n",
        "lista.insertar_al_inicio(15)\n",
        "lista.insertar_al_inicio(20)\n",
        "lista.insertar_al_inicio(25)\n",
        "\n",
        "# Imprimir los elementos de la lista\n",
        "print(\"Lista enlazada actual:\")\n",
        "lista.recorrer()\n"
      ]
    },
    {
      "cell_type": "code",
      "source": [
        "# Añadir funcionalidad para eliminar un nodo por valor\n",
        "class ListaEnlazada:\n",
        "    def __init__(self):\n",
        "        self.cabeza = None\n",
        "\n",
        "    def insertar_al_inicio(self, valor):\n",
        "        nuevo_nodo = Nodo(valor)\n",
        "        nuevo_nodo.siguiente = self.cabeza\n",
        "        self.cabeza = nuevo_nodo\n",
        "\n",
        "    def recorrer(self):\n",
        "        actual = self.cabeza\n",
        "        while actual:\n",
        "            print(actual.valor, end=\" -> \")\n",
        "            actual = actual.siguiente\n",
        "        print(\"None\")\n",
        "\n",
        "    # Método para eliminar un nodo por valor\n",
        "    def eliminar_por_valor(self, valor):\n",
        "        actual = self.cabeza\n",
        "        previo = None\n",
        "\n",
        "        # Buscar el nodo a eliminar\n",
        "        while actual and actual.valor != valor:\n",
        "            previo = actual\n",
        "            actual = actual.siguiente\n",
        "\n",
        "        # Si no se encontró el valor, salir\n",
        "        if not actual:\n",
        "            print(f\"Valor {valor} no encontrado en la lista.\")\n",
        "            return\n",
        "\n",
        "        # Si es el primer nodo\n",
        "        if previo is None:\n",
        "            self.cabeza = actual.siguiente\n",
        "        else:\n",
        "            previo.siguiente = actual.siguiente\n",
        "\n",
        "        print(f\"Valor {valor} eliminado.\")\n",
        "\n",
        "# Probar el método de eliminación\n",
        "lista = ListaEnlazada()\n",
        "\n",
        "# Añadir elementos\n",
        "lista.insertar_al_inicio(5)\n",
        "lista.insertar_al_inicio(10)\n",
        "lista.insertar_al_inicio(15)\n",
        "\n",
        "# Eliminar un elemento\n",
        "lista.eliminar_por_valor(10)\n",
        "\n",
        "# Verificar la lista después de eliminar\n",
        "print(\"Lista enlazada después de eliminar:\")\n",
        "lista.recorrer()\n"
      ],
      "metadata": {
        "colab": {
          "base_uri": "https://localhost:8080/"
        },
        "id": "2oZjjsjdA0c7",
        "outputId": "608b0922-2230-4cc7-8e67-99aea3ac70b5"
      },
      "execution_count": 2,
      "outputs": [
        {
          "output_type": "stream",
          "name": "stdout",
          "text": [
            "Valor 10 eliminado.\n",
            "Lista enlazada después de eliminar:\n",
            "15 -> 5 -> None\n"
          ]
        }
      ]
    },
    {
      "cell_type": "code",
      "source": [
        "# Añadir funcionalidad para buscar un nodo por su valor\n",
        "class ListaEnlazada:\n",
        "    def __init__(self):\n",
        "        self.cabeza = None\n",
        "\n",
        "    def insertar_al_inicio(self, valor):\n",
        "        nuevo_nodo = Nodo(valor)\n",
        "        nuevo_nodo.siguiente = self.cabeza\n",
        "        self.cabeza = nuevo_nodo\n",
        "\n",
        "    def recorrer(self):\n",
        "        actual = self.cabeza\n",
        "        while actual:\n",
        "            print(actual.valor, end=\" -> \")\n",
        "            actual = actual.siguiente\n",
        "        print(\"None\")\n",
        "\n",
        "    def eliminar_por_valor(self, valor):\n",
        "        actual = self.cabeza\n",
        "        previo = None\n",
        "        while actual and actual.valor != valor:\n",
        "            previo = actual\n",
        "            actual = actual.siguiente\n",
        "        if not actual:\n",
        "            print(f\"Valor {valor} no encontrado.\")\n",
        "            return\n",
        "        if previo is None:\n",
        "            self.cabeza = actual.siguiente\n",
        "        else:\n",
        "            previo.siguiente = actual.siguiente\n",
        "        print(f\"Valor {valor} eliminado.\")\n",
        "\n",
        "    # Método para buscar un valor en la lista\n",
        "    def buscar(self, valor):\n",
        "        actual = self.cabeza\n",
        "        while actual:\n",
        "            if actual.valor == valor:\n",
        "                print(f\"Valor {valor} encontrado.\")\n",
        "                return True\n",
        "            actual = actual.siguiente\n",
        "        print(f\"Valor {valor} no encontrado.\")\n",
        "        return False\n",
        "\n",
        "# Probar el método de búsqueda\n",
        "lista = ListaEnlazada()\n",
        "\n",
        "# Añadir elementos\n",
        "lista.insertar_al_inicio(5)\n",
        "lista.insertar_al_inicio(10)\n",
        "lista.insertar_al_inicio(15)\n",
        "\n",
        "# Buscar un valor en la lista\n",
        "lista.buscar(10)\n",
        "lista.buscar(20)\n"
      ],
      "metadata": {
        "colab": {
          "base_uri": "https://localhost:8080/"
        },
        "id": "V8yVhEOrA4Ex",
        "outputId": "b4b97d67-b741-42b2-e9af-49a1d5b57cfe"
      },
      "execution_count": 3,
      "outputs": [
        {
          "output_type": "stream",
          "name": "stdout",
          "text": [
            "Valor 10 encontrado.\n",
            "Valor 20 no encontrado.\n"
          ]
        },
        {
          "output_type": "execute_result",
          "data": {
            "text/plain": [
              "False"
            ]
          },
          "metadata": {},
          "execution_count": 3
        }
      ]
    },
    {
      "cell_type": "code",
      "source": [
        "# Añadir funcionalidad para insertar en una posición específica\n",
        "class ListaEnlazada:\n",
        "    def __init__(self):\n",
        "        self.cabeza = None\n",
        "\n",
        "    def insertar_al_inicio(self, valor):\n",
        "        nuevo_nodo = Nodo(valor)\n",
        "        nuevo_nodo.siguiente = self.cabeza\n",
        "        self.cabeza = nuevo_nodo\n",
        "\n",
        "    def recorrer(self):\n",
        "        actual = self.cabeza\n",
        "        while actual:\n",
        "            print(actual.valor, end=\" -> \")\n",
        "            actual = actual.siguiente\n",
        "        print(\"None\")\n",
        "\n",
        "    def eliminar_por_valor(self, valor):\n",
        "        actual = self.cabeza\n",
        "        previo = None\n",
        "        while actual and actual.valor != valor:\n",
        "            previo = actual\n",
        "            actual = actual.siguiente\n",
        "        if not actual:\n",
        "            print(f\"Valor {valor} no encontrado.\")\n",
        "            return\n",
        "        if previo is None:\n",
        "            self.cabeza = actual.siguiente\n",
        "        else:\n",
        "            previo.siguiente = actual.siguiente\n",
        "        print(f\"Valor {valor} eliminado.\")\n",
        "\n",
        "    def buscar(self, valor):\n",
        "        actual = self.cabeza\n",
        "        while actual:\n",
        "            if actual.valor == valor:\n",
        "                print(f\"Valor {valor} encontrado.\")\n",
        "                return True\n",
        "            actual = actual.siguiente\n",
        "        print(f\"Valor {valor} no encontrado.\")\n",
        "        return False\n",
        "\n",
        "    # Método para insertar en una posición específica\n",
        "    def insertar_en_posicion(self, valor, posicion):\n",
        "        nuevo_nodo = Nodo(valor)\n",
        "        if posicion == 0:\n",
        "            nuevo_nodo.siguiente = self.cabeza\n",
        "            self.cabeza = nuevo_nodo\n",
        "            return\n",
        "\n",
        "        actual = self.cabeza\n",
        "        indice = 0\n",
        "        while actual and indice < posicion - 1:\n",
        "            actual = actual.siguiente\n",
        "            indice += 1\n",
        "\n",
        "        if actual is None:\n",
        "            print(\"La posición está fuera de los límites de la lista.\")\n",
        "        else:\n",
        "            nuevo_nodo.siguiente = actual.siguiente\n",
        "            actual.siguiente = nuevo_nodo\n",
        "\n",
        "# Probar el método de inserción en una posición específica\n",
        "lista = ListaEnlazada()\n",
        "\n",
        "# Añadir elementos\n",
        "lista.insertar_al_inicio(5)\n",
        "lista.insertar_al_inicio(10)\n",
        "lista.insertar_al_inicio(15)\n",
        "\n",
        "# Insertar en diferentes posiciones\n",
        "lista.insertar_en_posicion(20, 1)  # Insertar en posición 1 (intermedio)\n",
        "lista.insertar_en_posicion(25, 0)  # Insertar en la posición 0 (inicio)\n",
        "lista.insertar_en_posicion(30, 4)  # Insertar al final\n",
        "\n",
        "# Verificar la lista\n",
        "print(\"Lista después de las inserciones en posiciones específicas:\")\n",
        "lista.recorrer()\n"
      ],
      "metadata": {
        "colab": {
          "base_uri": "https://localhost:8080/"
        },
        "id": "hv42KDvHA565",
        "outputId": "5c2062ea-27a0-4cfd-edf2-4112286ef4a5"
      },
      "execution_count": 4,
      "outputs": [
        {
          "output_type": "stream",
          "name": "stdout",
          "text": [
            "Lista después de las inserciones en posiciones específicas:\n",
            "25 -> 15 -> 20 -> 10 -> 30 -> 5 -> None\n"
          ]
        }
      ]
    }
  ]
}