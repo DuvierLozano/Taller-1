{
  "nbformat": 4,
  "nbformat_minor": 0,
  "metadata": {
    "colab": {
      "provenance": [],
      "authorship_tag": "ABX9TyNWjA0OUciknoL2Y5cIfO2v",
      "include_colab_link": true
    },
    "kernelspec": {
      "name": "python3",
      "display_name": "Python 3"
    },
    "language_info": {
      "name": "python"
    }
  },
  "cells": [
    {
      "cell_type": "markdown",
      "metadata": {
        "id": "view-in-github",
        "colab_type": "text"
      },
      "source": [
        "<a href=\"https://colab.research.google.com/github/DuvierLozano/Taller-1/blob/main/clase_2.ipynb\" target=\"_parent\"><img src=\"https://colab.research.google.com/assets/colab-badge.svg\" alt=\"Open In Colab\"/></a>"
      ]
    },
    {
      "cell_type": "code",
      "execution_count": null,
      "metadata": {
        "id": "V5HIkK7sGef-"
      },
      "outputs": [],
      "source": [
        "import time\n",
        "\n",
        "def fibonacci_basico(n):\n",
        "    if n <= 1:\n",
        "        return n\n",
        "    a, b = 0, 1\n",
        "    for _ in range(2, n + 1):\n",
        "        c = a + b\n",
        "        a = b\n",
        "        b = c\n",
        "    return b\n",
        "\n",
        "def fibonacci_optimizado(n):\n",
        "    if n <= 1:\n",
        "        return n\n",
        "    a, b = 0, 1\n",
        "    for _ in range(2, n + 1):\n",
        "        b = a + b\n",
        "        a = b - a\n",
        "    return b\n",
        "\n",
        "def medir_tiempo_ejecucion(func, n):\n",
        "    inicio = time.time_ns()\n",
        "    func(n)\n",
        "    fin = time.time_ns()\n",
        "    return fin - inicio\n",
        "\n",
        "def main():\n",
        "    n = 30\n",
        "    total_tiempo_basico = 0\n",
        "    total_tiempo_optimizado = 0\n",
        "\n",
        "    for _ in range(10):\n",
        "        total_tiempo_basico += medir_tiempo_ejecucion(fibonacci_basico, n)\n",
        "\n",
        "    for _ in range(10):\n",
        "        total_tiempo_optimizado += medir_tiempo_ejecucion(fibonacci_optimizado, n)\n",
        "\n",
        "    print(\"Tiempo promedio (Iterativo Básico):\", total_tiempo_basico / 10, \"ns\")\n",
        "    print(\"Tiempo promedio (Iterativo Optimizado):\", total_tiempo_optimizado / 10, \"ns\")\n",
        "\n",
        "if __name__ == \"__main__\":\n",
        "    main()\n"
      ]
    }
  ]
}